{
 "cells": [
  {
   "cell_type": "code",
   "execution_count": 33,
   "id": "1fa8e084-7457-4cce-b474-555d286e05e3",
   "metadata": {},
   "outputs": [],
   "source": [
    "import pandas as pd\n",
    "import numpy as np"
   ]
  },
  {
   "cell_type": "code",
   "execution_count": 3,
   "id": "8d823e82-0384-495a-a694-22e53e58cabc",
   "metadata": {},
   "outputs": [],
   "source": [
    "df = pd.read_csv('https://raw.githubusercontent.com/alexeygrigorev/datasets/master/laptops.csv')"
   ]
  },
  {
   "cell_type": "code",
   "execution_count": 4,
   "id": "e0e4d6ab-ece8-4b59-b69b-dbefb343c190",
   "metadata": {},
   "outputs": [
    {
     "data": {
      "text/html": [
       "<div>\n",
       "<style scoped>\n",
       "    .dataframe tbody tr th:only-of-type {\n",
       "        vertical-align: middle;\n",
       "    }\n",
       "\n",
       "    .dataframe tbody tr th {\n",
       "        vertical-align: top;\n",
       "    }\n",
       "\n",
       "    .dataframe thead th {\n",
       "        text-align: right;\n",
       "    }\n",
       "</style>\n",
       "<table border=\"1\" class=\"dataframe\">\n",
       "  <thead>\n",
       "    <tr style=\"text-align: right;\">\n",
       "      <th></th>\n",
       "      <th>Laptop</th>\n",
       "      <th>Status</th>\n",
       "      <th>Brand</th>\n",
       "      <th>Model</th>\n",
       "      <th>CPU</th>\n",
       "      <th>RAM</th>\n",
       "      <th>Storage</th>\n",
       "      <th>Storage type</th>\n",
       "      <th>GPU</th>\n",
       "      <th>Screen</th>\n",
       "      <th>Touch</th>\n",
       "      <th>Final Price</th>\n",
       "    </tr>\n",
       "  </thead>\n",
       "  <tbody>\n",
       "    <tr>\n",
       "      <th>0</th>\n",
       "      <td>ASUS ExpertBook B1 B1502CBA-EJ0436X Intel Core...</td>\n",
       "      <td>New</td>\n",
       "      <td>Asus</td>\n",
       "      <td>ExpertBook</td>\n",
       "      <td>Intel Core i5</td>\n",
       "      <td>8</td>\n",
       "      <td>512</td>\n",
       "      <td>SSD</td>\n",
       "      <td>NaN</td>\n",
       "      <td>15.6</td>\n",
       "      <td>No</td>\n",
       "      <td>1009.00</td>\n",
       "    </tr>\n",
       "    <tr>\n",
       "      <th>1</th>\n",
       "      <td>Alurin Go Start Intel Celeron N4020/8GB/256GB ...</td>\n",
       "      <td>New</td>\n",
       "      <td>Alurin</td>\n",
       "      <td>Go</td>\n",
       "      <td>Intel Celeron</td>\n",
       "      <td>8</td>\n",
       "      <td>256</td>\n",
       "      <td>SSD</td>\n",
       "      <td>NaN</td>\n",
       "      <td>15.6</td>\n",
       "      <td>No</td>\n",
       "      <td>299.00</td>\n",
       "    </tr>\n",
       "    <tr>\n",
       "      <th>2</th>\n",
       "      <td>ASUS ExpertBook B1 B1502CBA-EJ0424X Intel Core...</td>\n",
       "      <td>New</td>\n",
       "      <td>Asus</td>\n",
       "      <td>ExpertBook</td>\n",
       "      <td>Intel Core i3</td>\n",
       "      <td>8</td>\n",
       "      <td>256</td>\n",
       "      <td>SSD</td>\n",
       "      <td>NaN</td>\n",
       "      <td>15.6</td>\n",
       "      <td>No</td>\n",
       "      <td>789.00</td>\n",
       "    </tr>\n",
       "    <tr>\n",
       "      <th>3</th>\n",
       "      <td>MSI Katana GF66 12UC-082XES Intel Core i7-1270...</td>\n",
       "      <td>New</td>\n",
       "      <td>MSI</td>\n",
       "      <td>Katana</td>\n",
       "      <td>Intel Core i7</td>\n",
       "      <td>16</td>\n",
       "      <td>1000</td>\n",
       "      <td>SSD</td>\n",
       "      <td>RTX 3050</td>\n",
       "      <td>15.6</td>\n",
       "      <td>No</td>\n",
       "      <td>1199.00</td>\n",
       "    </tr>\n",
       "    <tr>\n",
       "      <th>4</th>\n",
       "      <td>HP 15S-FQ5085NS Intel Core i5-1235U/16GB/512GB...</td>\n",
       "      <td>New</td>\n",
       "      <td>HP</td>\n",
       "      <td>15S</td>\n",
       "      <td>Intel Core i5</td>\n",
       "      <td>16</td>\n",
       "      <td>512</td>\n",
       "      <td>SSD</td>\n",
       "      <td>NaN</td>\n",
       "      <td>15.6</td>\n",
       "      <td>No</td>\n",
       "      <td>669.01</td>\n",
       "    </tr>\n",
       "  </tbody>\n",
       "</table>\n",
       "</div>"
      ],
      "text/plain": [
       "                                              Laptop Status   Brand  \\\n",
       "0  ASUS ExpertBook B1 B1502CBA-EJ0436X Intel Core...    New    Asus   \n",
       "1  Alurin Go Start Intel Celeron N4020/8GB/256GB ...    New  Alurin   \n",
       "2  ASUS ExpertBook B1 B1502CBA-EJ0424X Intel Core...    New    Asus   \n",
       "3  MSI Katana GF66 12UC-082XES Intel Core i7-1270...    New     MSI   \n",
       "4  HP 15S-FQ5085NS Intel Core i5-1235U/16GB/512GB...    New      HP   \n",
       "\n",
       "        Model            CPU  RAM  Storage Storage type       GPU  Screen  \\\n",
       "0  ExpertBook  Intel Core i5    8      512          SSD       NaN    15.6   \n",
       "1          Go  Intel Celeron    8      256          SSD       NaN    15.6   \n",
       "2  ExpertBook  Intel Core i3    8      256          SSD       NaN    15.6   \n",
       "3      Katana  Intel Core i7   16     1000          SSD  RTX 3050    15.6   \n",
       "4         15S  Intel Core i5   16      512          SSD       NaN    15.6   \n",
       "\n",
       "  Touch  Final Price  \n",
       "0    No      1009.00  \n",
       "1    No       299.00  \n",
       "2    No       789.00  \n",
       "3    No      1199.00  \n",
       "4    No       669.01  "
      ]
     },
     "execution_count": 4,
     "metadata": {},
     "output_type": "execute_result"
    }
   ],
   "source": [
    "df.head()"
   ]
  },
  {
   "cell_type": "code",
   "execution_count": 5,
   "id": "e9d25325-fca5-4b70-8a9e-45b90bc7d25a",
   "metadata": {},
   "outputs": [
    {
     "data": {
      "text/plain": [
       "'2.2.3'"
      ]
     },
     "execution_count": 5,
     "metadata": {},
     "output_type": "execute_result"
    }
   ],
   "source": [
    "pd.__version__"
   ]
  },
  {
   "cell_type": "code",
   "execution_count": 7,
   "id": "9d436518-a442-410f-99d7-3cbf72bff0c3",
   "metadata": {},
   "outputs": [
    {
     "data": {
      "text/plain": [
       "2160"
      ]
     },
     "execution_count": 7,
     "metadata": {},
     "output_type": "execute_result"
    }
   ],
   "source": [
    "df.shape[0]"
   ]
  },
  {
   "cell_type": "code",
   "execution_count": 9,
   "id": "ea8ea7cb-b041-4e48-8a27-dd790fa80bf3",
   "metadata": {},
   "outputs": [
    {
     "data": {
      "text/plain": [
       "27"
      ]
     },
     "execution_count": 9,
     "metadata": {},
     "output_type": "execute_result"
    }
   ],
   "source": [
    "df['Brand'].nunique()"
   ]
  },
  {
   "cell_type": "code",
   "execution_count": 11,
   "id": "dfce7841-48a7-445c-8b34-50371f2b0c8e",
   "metadata": {},
   "outputs": [
    {
     "data": {
      "text/plain": [
       "Laptop             0\n",
       "Status             0\n",
       "Brand              0\n",
       "Model              0\n",
       "CPU                0\n",
       "RAM                0\n",
       "Storage            0\n",
       "Storage type      42\n",
       "GPU             1371\n",
       "Screen             4\n",
       "Touch              0\n",
       "Final Price        0\n",
       "dtype: int64"
      ]
     },
     "execution_count": 11,
     "metadata": {},
     "output_type": "execute_result"
    }
   ],
   "source": [
    "df.isnull().sum()"
   ]
  },
  {
   "cell_type": "code",
   "execution_count": 13,
   "id": "fa1e9e25-f074-47d1-93d2-b0a15a8911d8",
   "metadata": {},
   "outputs": [
    {
     "data": {
      "text/plain": [
       "Brand\n",
       "Acer                3691.00\n",
       "Alurin               869.00\n",
       "Apple               3849.00\n",
       "Asus                5758.14\n",
       "Deep Gaming         1639.01\n",
       "Dell                3936.00\n",
       "Denver               329.95\n",
       "Dynabook Toshiba    1805.01\n",
       "Gigabyte            3799.00\n",
       "HP                  5368.77\n",
       "Innjoo               431.38\n",
       "Jetwing              469.27\n",
       "LG                  2399.00\n",
       "Lenovo              5018.14\n",
       "MSI                 7150.47\n",
       "Medion              3799.00\n",
       "Microsoft           3747.91\n",
       "Millenium           2312.71\n",
       "PcCom               1949.90\n",
       "Primux               599.41\n",
       "Prixton              329.95\n",
       "Razer               4999.01\n",
       "Realme               999.00\n",
       "Samsung             3699.01\n",
       "Thomson              436.56\n",
       "Toshiba              799.00\n",
       "Vant                1217.01\n",
       "Name: Final Price, dtype: float64"
      ]
     },
     "execution_count": 13,
     "metadata": {},
     "output_type": "execute_result"
    }
   ],
   "source": [
    "df.groupby('Brand')['Final Price'].max()"
   ]
  },
  {
   "cell_type": "code",
   "execution_count": 18,
   "id": "ad4f45d0-def8-47b1-9efa-0a92d3bf25a5",
   "metadata": {},
   "outputs": [
    {
     "data": {
      "text/plain": [
       "np.float64(3936.0)"
      ]
     },
     "execution_count": 18,
     "metadata": {},
     "output_type": "execute_result"
    }
   ],
   "source": [
    "df[df['Brand']=='Dell']['Final Price'].max()"
   ]
  },
  {
   "cell_type": "code",
   "execution_count": 19,
   "id": "c16556a4-7dca-4726-bf23-94aa060616d9",
   "metadata": {},
   "outputs": [
    {
     "data": {
      "text/plain": [
       "np.float64(15.6)"
      ]
     },
     "execution_count": 19,
     "metadata": {},
     "output_type": "execute_result"
    }
   ],
   "source": [
    "df.Screen.median()"
   ]
  },
  {
   "cell_type": "code",
   "execution_count": 22,
   "id": "304a23b3-3526-4e54-a31a-44e6e68b83ce",
   "metadata": {},
   "outputs": [],
   "source": [
    "mode_screen=df.Screen.mode()[0]"
   ]
  },
  {
   "cell_type": "code",
   "execution_count": 24,
   "id": "fd0ae9d2-4f6b-45ff-95ad-971856d986bf",
   "metadata": {},
   "outputs": [
    {
     "data": {
      "text/plain": [
       "np.float64(15.6)"
      ]
     },
     "execution_count": 24,
     "metadata": {},
     "output_type": "execute_result"
    }
   ],
   "source": [
    "df['Screen'].fillna(mode_screen).median()"
   ]
  },
  {
   "cell_type": "code",
   "execution_count": 25,
   "id": "07041f6f-c37a-4ddb-a821-d19aab4008a6",
   "metadata": {},
   "outputs": [],
   "source": [
    "inng_df=df[df['Brand']=='Innjoo']"
   ]
  },
  {
   "cell_type": "code",
   "execution_count": 26,
   "id": "3c8a13d8-a5e0-420b-b155-a36e2d6d8b1d",
   "metadata": {},
   "outputs": [],
   "source": [
    "inng_df=inng_df[['RAM', 'Storage', 'Screen']]"
   ]
  },
  {
   "cell_type": "code",
   "execution_count": 27,
   "id": "f225d620-3900-4c2b-b8e6-e9ded3bcc8d9",
   "metadata": {},
   "outputs": [
    {
     "data": {
      "text/html": [
       "<div>\n",
       "<style scoped>\n",
       "    .dataframe tbody tr th:only-of-type {\n",
       "        vertical-align: middle;\n",
       "    }\n",
       "\n",
       "    .dataframe tbody tr th {\n",
       "        vertical-align: top;\n",
       "    }\n",
       "\n",
       "    .dataframe thead th {\n",
       "        text-align: right;\n",
       "    }\n",
       "</style>\n",
       "<table border=\"1\" class=\"dataframe\">\n",
       "  <thead>\n",
       "    <tr style=\"text-align: right;\">\n",
       "      <th></th>\n",
       "      <th>RAM</th>\n",
       "      <th>Storage</th>\n",
       "      <th>Screen</th>\n",
       "    </tr>\n",
       "  </thead>\n",
       "  <tbody>\n",
       "    <tr>\n",
       "      <th>1478</th>\n",
       "      <td>8</td>\n",
       "      <td>256</td>\n",
       "      <td>15.6</td>\n",
       "    </tr>\n",
       "    <tr>\n",
       "      <th>1479</th>\n",
       "      <td>8</td>\n",
       "      <td>512</td>\n",
       "      <td>15.6</td>\n",
       "    </tr>\n",
       "    <tr>\n",
       "      <th>1480</th>\n",
       "      <td>4</td>\n",
       "      <td>64</td>\n",
       "      <td>14.1</td>\n",
       "    </tr>\n",
       "    <tr>\n",
       "      <th>1481</th>\n",
       "      <td>6</td>\n",
       "      <td>64</td>\n",
       "      <td>14.1</td>\n",
       "    </tr>\n",
       "    <tr>\n",
       "      <th>1482</th>\n",
       "      <td>6</td>\n",
       "      <td>128</td>\n",
       "      <td>14.1</td>\n",
       "    </tr>\n",
       "    <tr>\n",
       "      <th>1483</th>\n",
       "      <td>6</td>\n",
       "      <td>128</td>\n",
       "      <td>14.1</td>\n",
       "    </tr>\n",
       "  </tbody>\n",
       "</table>\n",
       "</div>"
      ],
      "text/plain": [
       "      RAM  Storage  Screen\n",
       "1478    8      256    15.6\n",
       "1479    8      512    15.6\n",
       "1480    4       64    14.1\n",
       "1481    6       64    14.1\n",
       "1482    6      128    14.1\n",
       "1483    6      128    14.1"
      ]
     },
     "execution_count": 27,
     "metadata": {},
     "output_type": "execute_result"
    }
   ],
   "source": [
    "inng_df"
   ]
  },
  {
   "cell_type": "code",
   "execution_count": 29,
   "id": "10b4076f-7bb6-4eb8-bd4f-b936cd731d1a",
   "metadata": {},
   "outputs": [],
   "source": [
    "X = inng_df.values"
   ]
  },
  {
   "cell_type": "code",
   "execution_count": 30,
   "id": "adaa18b9-88a7-43a0-b9c4-2618d010838e",
   "metadata": {},
   "outputs": [
    {
     "data": {
      "text/plain": [
       "array([[  8. , 256. ,  15.6],\n",
       "       [  8. , 512. ,  15.6],\n",
       "       [  4. ,  64. ,  14.1],\n",
       "       [  6. ,  64. ,  14.1],\n",
       "       [  6. , 128. ,  14.1],\n",
       "       [  6. , 128. ,  14.1]])"
      ]
     },
     "execution_count": 30,
     "metadata": {},
     "output_type": "execute_result"
    }
   ],
   "source": [
    "X"
   ]
  },
  {
   "cell_type": "code",
   "execution_count": 31,
   "id": "acbefb34-ce69-4152-8811-657641c1d683",
   "metadata": {},
   "outputs": [],
   "source": [
    "XTX = X.T.dot(X)"
   ]
  },
  {
   "cell_type": "code",
   "execution_count": 36,
   "id": "f951f0b8-a355-490b-9daa-7b4c37a301d2",
   "metadata": {},
   "outputs": [
    {
     "data": {
      "text/plain": [
       "array([[ 2.78025381e-01, -1.51791334e-03, -1.00809855e-01],\n",
       "       [-1.51791334e-03,  1.58286725e-05,  4.48052175e-04],\n",
       "       [-1.00809855e-01,  4.48052175e-04,  3.87214888e-02]])"
      ]
     },
     "execution_count": 36,
     "metadata": {},
     "output_type": "execute_result"
    }
   ],
   "source": [
    "XTX_inv=np.linalg.inv(XTX)\n",
    "XTX_inv"
   ]
  },
  {
   "cell_type": "code",
   "execution_count": 38,
   "id": "92a96451-0894-40ce-8349-4098c4347b2a",
   "metadata": {},
   "outputs": [],
   "source": [
    "y = np.array([1100, 1300, 800, 900, 1000, 1100])"
   ]
  },
  {
   "cell_type": "code",
   "execution_count": 40,
   "id": "51b46ecb-6b74-40ef-9bee-ca57ec0c6fce",
   "metadata": {},
   "outputs": [],
   "source": [
    "w = (XTX_inv @ X.T) @ y"
   ]
  },
  {
   "cell_type": "code",
   "execution_count": 42,
   "id": "c77a0e08-1d6f-4ce9-a2cf-d26fe95d33ff",
   "metadata": {},
   "outputs": [
    {
     "data": {
      "text/plain": [
       "array([45.58076606,  0.42783519, 45.29127938])"
      ]
     },
     "execution_count": 42,
     "metadata": {},
     "output_type": "execute_result"
    }
   ],
   "source": [
    "w"
   ]
  },
  {
   "cell_type": "code",
   "execution_count": 43,
   "id": "71730216-9e92-4ba0-b498-764fd75de832",
   "metadata": {},
   "outputs": [
    {
     "data": {
      "text/plain": [
       "np.float64(91.2998806299555)"
      ]
     },
     "execution_count": 43,
     "metadata": {},
     "output_type": "execute_result"
    }
   ],
   "source": [
    "sum(w)"
   ]
  },
  {
   "cell_type": "code",
   "execution_count": null,
   "id": "1529a6ef-8eb6-4ae7-8c74-8cec725c2cb0",
   "metadata": {},
   "outputs": [],
   "source": []
  }
 ],
 "metadata": {
  "kernelspec": {
   "display_name": "Python 3 (ipykernel)",
   "language": "python",
   "name": "python3"
  },
  "language_info": {
   "codemirror_mode": {
    "name": "ipython",
    "version": 3
   },
   "file_extension": ".py",
   "mimetype": "text/x-python",
   "name": "python",
   "nbconvert_exporter": "python",
   "pygments_lexer": "ipython3",
   "version": "3.12.1"
  }
 },
 "nbformat": 4,
 "nbformat_minor": 5
}
